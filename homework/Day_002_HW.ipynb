{
 "cells": [
  {
   "cell_type": "markdown",
   "metadata": {},
   "source": [
    "## 練習時間\n",
    "資料的操作有很多，接下來的馬拉松中我們會介紹常被使用到的操作，參加者不妨先自行想像一下，第一次看到資料，我們一般會想知道什麼訊息？\n",
    "\n",
    "#### Ex: 如何知道資料的 row 數以及 column 數、有什麼欄位、多少欄位、如何截取部分的資料等等\n",
    "\n",
    "有了對資料的好奇之後，我們又怎麼通過程式碼來達成我們的目的呢？\n",
    "\n",
    "#### 可參考該[基礎教材](https://bookdata.readthedocs.io/en/latest/base/01_pandas.html#DataFrame-%E5%85%A5%E9%97%A8)或自行 google"
   ]
  },
  {
   "cell_type": "code",
   "execution_count": 4,
   "metadata": {},
   "outputs": [],
   "source": [
    "import os\n",
    "import numpy as np\n",
    "import pandas as pd"
   ]
  },
  {
   "cell_type": "code",
   "execution_count": 5,
   "metadata": {},
   "outputs": [],
   "source": [
    "# 設定 data_path\n",
    "dir_data = './data/'"
   ]
  },
  {
   "cell_type": "code",
   "execution_count": 6,
   "metadata": {},
   "outputs": [
    {
     "name": "stdout",
     "output_type": "stream",
     "text": [
      "Path of read in data: ./data/homecredit.csv\n"
     ]
    }
   ],
   "source": [
    "f_app = os.path.join(dir_data, 'homecredit.csv')\n",
    "print('Path of read in data: %s' % (f_app))\n",
    "app_train = pd.read_csv(f_app)"
   ]
  },
  {
   "cell_type": "markdown",
   "metadata": {},
   "source": [
    "### 如果沒有想法，可以先嘗試找出剛剛例子中提到的問題的答案\n",
    "#### 資料的 row 數以及 column 數"
   ]
  },
  {
   "cell_type": "code",
   "execution_count": 13,
   "metadata": {},
   "outputs": [
    {
     "name": "stdout",
     "output_type": "stream",
     "text": [
      "row:205 column:7\n"
     ]
    }
   ],
   "source": [
    "print('row:%i column:%i'%(app_train.shape))"
   ]
  },
  {
   "cell_type": "markdown",
   "metadata": {},
   "source": [
    "#### 列出所有欄位"
   ]
  },
  {
   "cell_type": "code",
   "execution_count": 17,
   "metadata": {},
   "outputs": [
    {
     "name": "stdout",
     "output_type": "stream",
     "text": [
      "     Unnamed: 0                         Table                          Row  \\\n",
      "0             1  application_{train|test}.csv                   SK_ID_CURR   \n",
      "1             2  application_{train|test}.csv                       TARGET   \n",
      "2             5  application_{train|test}.csv           NAME_CONTRACT_TYPE   \n",
      "3             6  application_{train|test}.csv                  CODE_GENDER   \n",
      "4             7  application_{train|test}.csv                 FLAG_OWN_CAR   \n",
      "5             8  application_{train|test}.csv              FLAG_OWN_REALTY   \n",
      "6             9  application_{train|test}.csv                 CNT_CHILDREN   \n",
      "7            10  application_{train|test}.csv             AMT_INCOME_TOTAL   \n",
      "8            11  application_{train|test}.csv                   AMT_CREDIT   \n",
      "9            12  application_{train|test}.csv                  AMT_ANNUITY   \n",
      "10           13  application_{train|test}.csv              AMT_GOODS_PRICE   \n",
      "11           14  application_{train|test}.csv              NAME_TYPE_SUITE   \n",
      "12           15  application_{train|test}.csv             NAME_INCOME_TYPE   \n",
      "13           16  application_{train|test}.csv          NAME_EDUCATION_TYPE   \n",
      "14           17  application_{train|test}.csv           NAME_FAMILY_STATUS   \n",
      "15           18  application_{train|test}.csv            NAME_HOUSING_TYPE   \n",
      "16           19  application_{train|test}.csv   REGION_POPULATION_RELATIVE   \n",
      "17           20  application_{train|test}.csv                   DAYS_BIRTH   \n",
      "18           21  application_{train|test}.csv                DAYS_EMPLOYED   \n",
      "19           22  application_{train|test}.csv            DAYS_REGISTRATION   \n",
      "20           23  application_{train|test}.csv              DAYS_ID_PUBLISH   \n",
      "21           24  application_{train|test}.csv                  OWN_CAR_AGE   \n",
      "22           25  application_{train|test}.csv                   FLAG_MOBIL   \n",
      "23           26  application_{train|test}.csv               FLAG_EMP_PHONE   \n",
      "24           27  application_{train|test}.csv              FLAG_WORK_PHONE   \n",
      "25           28  application_{train|test}.csv             FLAG_CONT_MOBILE   \n",
      "26           29  application_{train|test}.csv                   FLAG_PHONE   \n",
      "27           30  application_{train|test}.csv                   FLAG_EMAIL   \n",
      "28           31  application_{train|test}.csv              OCCUPATION_TYPE   \n",
      "29           32  application_{train|test}.csv              CNT_FAM_MEMBERS   \n",
      "..          ...                           ...                          ...   \n",
      "175         178      previous_application.csv           NAME_CONTRACT_TYPE   \n",
      "176         179      previous_application.csv                  AMT_ANNUITY   \n",
      "177         180      previous_application.csv              AMT_APPLICATION   \n",
      "178         181      previous_application.csv                   AMT_CREDIT   \n",
      "179         182      previous_application.csv             AMT_DOWN_PAYMENT   \n",
      "180         183      previous_application.csv              AMT_GOODS_PRICE   \n",
      "181         184      previous_application.csv   WEEKDAY_APPR_PROCESS_START   \n",
      "182         185      previous_application.csv      HOUR_APPR_PROCESS_START   \n",
      "183         186      previous_application.csv  FLAG_LAST_APPL_PER_CONTRACT   \n",
      "184         187      previous_application.csv       NFLAG_LAST_APPL_IN_DAY   \n",
      "185         188      previous_application.csv             NFLAG_MICRO_CASH   \n",
      "186         189      previous_application.csv            RATE_DOWN_PAYMENT   \n",
      "187         190      previous_application.csv        RATE_INTEREST_PRIMARY   \n",
      "188         191      previous_application.csv     RATE_INTEREST_PRIVILEGED   \n",
      "189         192      previous_application.csv       NAME_CASH_LOAN_PURPOSE   \n",
      "190         193      previous_application.csv         NAME_CONTRACT_STATUS   \n",
      "191         194      previous_application.csv                DAYS_DECISION   \n",
      "192         195      previous_application.csv            NAME_PAYMENT_TYPE   \n",
      "193         196      previous_application.csv           CODE_REJECT_REASON   \n",
      "194         197      previous_application.csv              NAME_TYPE_SUITE   \n",
      "195         198      previous_application.csv             NAME_CLIENT_TYPE   \n",
      "196         199      previous_application.csv          NAME_GOODS_CATEGORY   \n",
      "197         200      previous_application.csv               NAME_PORTFOLIO   \n",
      "198         215     installments_payments.csv                   SK_ID_CURR   \n",
      "199         216     installments_payments.csv       NUM_INSTALMENT_VERSION   \n",
      "200         217     installments_payments.csv        NUM_INSTALMENT_NUMBER   \n",
      "201         218     installments_payments.csv              DAYS_INSTALMENT   \n",
      "202         219     installments_payments.csv           DAYS_ENTRY_PAYMENT   \n",
      "203         220     installments_payments.csv               AMT_INSTALMENT   \n",
      "204         221     installments_payments.csv                  AMT_PAYMENT   \n",
      "\n",
      "                                           Description  \\\n",
      "0                             ID of loan in our sample   \n",
      "1    Target variable (1 - client with payment diffi...   \n",
      "2          Identification if loan is cash or revolving   \n",
      "3                                 Gender of the client   \n",
      "4                        Flag if the client owns a car   \n",
      "5                  Flag if client owns a house or flat   \n",
      "6                    Number of children the client has   \n",
      "7                                 Income of the client   \n",
      "8                            Credit amount of the loan   \n",
      "9                                         Loan annuity   \n",
      "10   For consumer loans it is the price of the good...   \n",
      "11   Who was accompanying client when he was applyi...   \n",
      "12   Clients income type (businessman, working, mat...   \n",
      "13      Level of highest education the client achieved   \n",
      "14                         Family status of the client   \n",
      "15   What is the housing situation of the client (r...   \n",
      "16   Normalized population of region where client l...   \n",
      "17     Client's age in days at the time of application   \n",
      "18   How many days before the application the perso...   \n",
      "19   How many days before the application did clien...   \n",
      "20   How many days before the application did clien...   \n",
      "21                                 Age of client's car   \n",
      "22       Did client provide mobile phone (1=YES, 0=NO)   \n",
      "23         Did client provide work phone (1=YES, 0=NO)   \n",
      "24         Did client provide home phone (1=YES, 0=NO)   \n",
      "25            Was mobile phone reachable (1=YES, 0=NO)   \n",
      "26         Did client provide home phone (1=YES, 0=NO)   \n",
      "27              Did client provide email (1=YES, 0=NO)   \n",
      "28        What kind of occupation does the client have   \n",
      "29            How many family members does client have   \n",
      "..                                                 ...   \n",
      "175  Contract product type (Cash loan, consumer loa...   \n",
      "176                    Annuity of previous application   \n",
      "177  For how much credit did client ask on the prev...   \n",
      "178  Final credit amount on the previous applicatio...   \n",
      "179           Down payment on the previous application   \n",
      "180  Goods price of good that client asked for (if ...   \n",
      "181  On which day of the week did the client apply ...   \n",
      "182  Approximately at what day hour did the client ...   \n",
      "183  Flag if it was last application for the previo...   \n",
      "184  Flag if the application was the last applicati...   \n",
      "185                            Flag Micro finance loan   \n",
      "186    Down payment rate normalized on previous credit   \n",
      "187        Interest rate normalized on previous credit   \n",
      "188        Interest rate normalized on previous credit   \n",
      "189                           Purpose of the cash loan   \n",
      "190  Contract status (approved, cancelled, ...) of ...   \n",
      "191  Relative to current application when was the d...   \n",
      "192  Payment method that client chose to pay for th...   \n",
      "193          Why was the previous application rejected   \n",
      "194  Who accompanied client when applying for the p...   \n",
      "195  Was the client old or new client when applying...   \n",
      "196  What kind of goods did the client apply for in...   \n",
      "197  Was the previous application for CASH, POS, CA...   \n",
      "198                           ID of loan in our sample   \n",
      "199  Version of installment calendar (0 is for cred...   \n",
      "200            On which installment we observe payment   \n",
      "201  When the installment of previous credit was su...   \n",
      "202  When was the installments of previous credit p...   \n",
      "203  What was the prescribed installment amount of ...   \n",
      "204  What the client actually paid on previous cred...   \n",
      "\n",
      "                                   Special  \\\n",
      "0                                      NaN   \n",
      "1                                      NaN   \n",
      "2                                      NaN   \n",
      "3                                      NaN   \n",
      "4                                      NaN   \n",
      "5                                      NaN   \n",
      "6                                      NaN   \n",
      "7                                      NaN   \n",
      "8                                      NaN   \n",
      "9                                      NaN   \n",
      "10                                     NaN   \n",
      "11                                     NaN   \n",
      "12                                     NaN   \n",
      "13                                     NaN   \n",
      "14                                     NaN   \n",
      "15                                     NaN   \n",
      "16                             normalized    \n",
      "17   time only relative to the application   \n",
      "18   time only relative to the application   \n",
      "19   time only relative to the application   \n",
      "20   time only relative to the application   \n",
      "21                                     NaN   \n",
      "22                                     NaN   \n",
      "23                                     NaN   \n",
      "24                                     NaN   \n",
      "25                                     NaN   \n",
      "26                                     NaN   \n",
      "27                                     NaN   \n",
      "28                                     NaN   \n",
      "29                                     NaN   \n",
      "..                                     ...   \n",
      "175                                    NaN   \n",
      "176                                    NaN   \n",
      "177                                    NaN   \n",
      "178                                    NaN   \n",
      "179                                    NaN   \n",
      "180                                    NaN   \n",
      "181                                    NaN   \n",
      "182                                rounded   \n",
      "183                                    NaN   \n",
      "184                                    NaN   \n",
      "185                                    NaN   \n",
      "186                             normalized   \n",
      "187                             normalized   \n",
      "188                             normalized   \n",
      "189                                    NaN   \n",
      "190                                    NaN   \n",
      "191  time only relative to the application   \n",
      "192                                    NaN   \n",
      "193                                    NaN   \n",
      "194                                    NaN   \n",
      "195                                    NaN   \n",
      "196                                    NaN   \n",
      "197                                      1   \n",
      "198                                 hashed   \n",
      "199                                    NaN   \n",
      "200                                    NaN   \n",
      "201  time only relative to the application   \n",
      "202  time only relative to the application   \n",
      "203                                    NaN   \n",
      "204                                    NaN   \n",
      "\n",
      "                                    Unnamed: 5 Unnamed: 6  \n",
      "0                                          NaN        NaN  \n",
      "1                                          NaN        NaN  \n",
      "2                                          NaN        NaN  \n",
      "3                                          NaN        NaN  \n",
      "4                                          NaN        NaN  \n",
      "5                                          NaN        NaN  \n",
      "6                                          NaN        NaN  \n",
      "7                                          NaN        NaN  \n",
      "8                                          NaN        NaN  \n",
      "9                                          NaN        NaN  \n",
      "10                                         NaN        NaN  \n",
      "11                                         NaN        NaN  \n",
      "12                                         NaN        NaN  \n",
      "13                                         NaN        NaN  \n",
      "14                                         NaN        NaN  \n",
      "15                                         NaN        NaN  \n",
      "16                                         NaN        NaN  \n",
      "17                                         NaN        NaN  \n",
      "18                                         NaN        NaN  \n",
      "19                                         NaN        NaN  \n",
      "20                                         NaN        NaN  \n",
      "21                                         NaN        NaN  \n",
      "22                                         NaN        NaN  \n",
      "23                                         NaN        NaN  \n",
      "24                                         NaN        NaN  \n",
      "25                                         NaN        NaN  \n",
      "26                                         NaN        NaN  \n",
      "27                                         NaN        NaN  \n",
      "28                                         NaN        NaN  \n",
      "29                                         NaN        NaN  \n",
      "..                                         ...        ...  \n",
      "175                                        NaN        NaN  \n",
      "176                                        NaN        NaN  \n",
      "177                                        NaN        NaN  \n",
      "178                                        NaN        NaN  \n",
      "179                                        NaN        NaN  \n",
      "180                                        NaN        NaN  \n",
      "181                                        NaN        NaN  \n",
      "182                                        NaN        NaN  \n",
      "183                                        NaN        NaN  \n",
      "184                                        NaN        NaN  \n",
      "185                                        NaN        NaN  \n",
      "186                                        NaN        NaN  \n",
      "187                                        NaN        NaN  \n",
      "188                                        NaN        NaN  \n",
      "189                                        NaN        NaN  \n",
      "190                                        NaN        NaN  \n",
      "191                                        NaN        NaN  \n",
      "192                                        NaN        NaN  \n",
      "193                                        NaN        NaN  \n",
      "194                                        NaN        NaN  \n",
      "195                                        NaN        NaN  \n",
      "196                                        NaN        NaN  \n",
      "197  2 or more previous loans in Home Credit)\"     hashed  \n",
      "198                                        NaN        NaN  \n",
      "199                                        NaN        NaN  \n",
      "200                                        NaN        NaN  \n",
      "201                                        NaN        NaN  \n",
      "202                                        NaN        NaN  \n",
      "203                                        NaN        NaN  \n",
      "204                                        NaN        NaN  \n",
      "\n",
      "[205 rows x 7 columns]\n"
     ]
    }
   ],
   "source": [
    "print(app_train)"
   ]
  },
  {
   "cell_type": "markdown",
   "metadata": {},
   "source": [
    "#### 截取部分資料"
   ]
  },
  {
   "cell_type": "code",
   "execution_count": 26,
   "metadata": {},
   "outputs": [
    {
     "name": "stdout",
     "output_type": "stream",
     "text": [
      "   Unnamed: 0                         Table                 Row  \\\n",
      "0           1  application_{train|test}.csv          SK_ID_CURR   \n",
      "1           2  application_{train|test}.csv              TARGET   \n",
      "2           5  application_{train|test}.csv  NAME_CONTRACT_TYPE   \n",
      "\n",
      "                                         Description Special Unnamed: 5  \\\n",
      "0                           ID of loan in our sample     NaN        NaN   \n",
      "1  Target variable (1 - client with payment diffi...     NaN        NaN   \n",
      "2        Identification if loan is cash or revolving     NaN        NaN   \n",
      "\n",
      "  Unnamed: 6  \n",
      "0        NaN  \n",
      "1        NaN  \n",
      "2        NaN  \n"
     ]
    }
   ],
   "source": [
    "print(app_train.head(3))"
   ]
  },
  {
   "cell_type": "code",
   "execution_count": 27,
   "metadata": {
    "scrolled": true
   },
   "outputs": [
    {
     "name": "stdout",
     "output_type": "stream",
     "text": [
      "     Unnamed: 0                      Table                 Row  \\\n",
      "202         219  installments_payments.csv  DAYS_ENTRY_PAYMENT   \n",
      "203         220  installments_payments.csv      AMT_INSTALMENT   \n",
      "204         221  installments_payments.csv         AMT_PAYMENT   \n",
      "\n",
      "                                           Description  \\\n",
      "202  When was the installments of previous credit p...   \n",
      "203  What was the prescribed installment amount of ...   \n",
      "204  What the client actually paid on previous cred...   \n",
      "\n",
      "                                   Special Unnamed: 5 Unnamed: 6  \n",
      "202  time only relative to the application        NaN        NaN  \n",
      "203                                    NaN        NaN        NaN  \n",
      "204                                    NaN        NaN        NaN  \n"
     ]
    }
   ],
   "source": [
    "print(app_train.tail(3))"
   ]
  },
  {
   "cell_type": "markdown",
   "metadata": {},
   "source": [
    "#### 還有各種數之不盡的資料操作，重點還是取決於實務中遇到的狀況和你想問的問題，在馬拉松中我們也會陸續提到更多例子"
   ]
  },
  {
   "cell_type": "code",
   "execution_count": null,
   "metadata": {
    "collapsed": true
   },
   "outputs": [],
   "source": []
  }
 ],
 "metadata": {
  "kernelspec": {
   "display_name": "Python 3",
   "language": "python",
   "name": "python3"
  },
  "language_info": {
   "codemirror_mode": {
    "name": "ipython",
    "version": 3
   },
   "file_extension": ".py",
   "mimetype": "text/x-python",
   "name": "python",
   "nbconvert_exporter": "python",
   "pygments_lexer": "ipython3",
   "version": "3.6.8"
  }
 },
 "nbformat": 4,
 "nbformat_minor": 2
}
