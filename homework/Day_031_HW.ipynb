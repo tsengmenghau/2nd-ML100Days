{
 "cells": [
  {
   "cell_type": "markdown",
   "metadata": {},
   "source": [
    "## 練習時間"
   ]
  },
  {
   "cell_type": "markdown",
   "metadata": {},
   "source": [
    "請觀看台大電機李宏毅教授的影片。李教授會用非常淺顯易懂的方式介紹甚麼是機器學習。\n"
   ]
  },
  {
   "cell_type": "markdown",
   "metadata": {},
   "source": [
    "[youtube](https://www.youtube.com/watch?v=CXgbekl66jc)"
   ]
  },
  {
   "cell_type": "markdown",
   "metadata": {},
   "source": [
    "## 請找出一個你認為機器學習可以發光發熱的領域並闡述原因? "
   ]
  },
  {
   "cell_type": "markdown",
   "metadata": {},
   "source": [
    "新的網路爬蟲方式，或許我看的書籍是舊款的，目前書籍上教我們的是透過網站的結構找尋想要的資料，但假如有時網站架構有些許的微調可能又要更改程式\n",
    "\n",
    "所以我在想人類怎麼搜尋資料的，透過圖像然後搜尋文字的圖像，將文字的圖像轉化為可能是我們想要的潛在資訊。\n",
    "\n",
    "但這個部分電腦或許需要很大的運算能力。\n",
    "\n",
    "希望可以降低網路爬蟲的門檻，讓應用更廣泛，在這資訊爆炸的年代減少找尋與篩選資料的時間成本。"
   ]
  }
 ],
 "metadata": {
  "kernelspec": {
   "display_name": "Python 3",
   "language": "python",
   "name": "python3"
  },
  "language_info": {
   "codemirror_mode": {
    "name": "ipython",
    "version": 3
   },
   "file_extension": ".py",
   "mimetype": "text/x-python",
   "name": "python",
   "nbconvert_exporter": "python",
   "pygments_lexer": "ipython3",
   "version": "3.6.8"
  }
 },
 "nbformat": 4,
 "nbformat_minor": 2
}
